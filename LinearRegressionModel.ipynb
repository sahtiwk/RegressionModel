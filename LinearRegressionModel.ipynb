{
  "nbformat": 4,
  "nbformat_minor": 0,
  "metadata": {
    "colab": {
      "provenance": []
    },
    "kernelspec": {
      "name": "python3",
      "display_name": "Python 3"
    },
    "language_info": {
      "name": "python"
    }
  },
  "cells": [
    {
      "cell_type": "code",
      "execution_count": 72,
      "metadata": {
        "id": "JXmpFXHdaH0W"
      },
      "outputs": [],
      "source": [
        "from typing_extensions import runtime\n",
        "import numpy as np\n",
        "\n",
        "class LinearRegression:\n",
        "  def __init__(self):\n",
        "    self.slope= None\n",
        "    self.intercept= None\n",
        "\n",
        "  def fit(self, X, y):\n",
        "    X= np.array(X)\n",
        "    y= np.array(y)\n",
        "\n",
        "    X_mean= np.mean(X)\n",
        "    y_mean= np.mean(y)\n",
        "\n",
        "    num= np.sum((X - X_mean) * (y - y_mean))\n",
        "    deno= np.sum((X - X_mean)**2)\n",
        "\n",
        "    if deno == 0:\n",
        "      raise ValueError(\"All the values of X are likely to be the same.\")\n",
        "\n",
        "    self.slope= num / deno\n",
        "    self.intercept= y_mean - (self.slope * X_mean)\n",
        "    print(\"Model Trained\")\n",
        "    print(\"Slope and Intercept: \",self.slope, self.intercept)\n",
        "\n",
        "  def predict(self, X):\n",
        "    X= np.array(X)\n",
        "    if self.slope is None or self.intercept is None:\n",
        "      raise RuntimeError(\"Model has not been trained yet.\")\n",
        "    return self.intercept + (X * self.slope)\n",
        "\n",
        "  def score(self, X, y):\n",
        "    y_true = np.array(y)\n",
        "    y_predicted = self.predict(X)\n",
        "    tss = np.sum((y_true - np.mean(y_true))**2)\n",
        "    rss = np.sum((y_true - y_predicted)**2)\n",
        "\n",
        "    r_squared = 1 - (rss / tss)\n",
        "    return r_squared"
      ]
    },
    {
      "cell_type": "code",
      "source": [
        "import pandas as pd\n",
        "salary_df= pd.read_csv('Salary_dataset.csv')\n",
        "np.array(salary_df['Salary']).mean()"
      ],
      "metadata": {
        "colab": {
          "base_uri": "https://localhost:8080/"
        },
        "id": "fnJn8PTkxO5X",
        "outputId": "d0a82a9c-b0a4-4fdf-996b-e097191e9e56"
      },
      "execution_count": 73,
      "outputs": [
        {
          "output_type": "execute_result",
          "data": {
            "text/plain": [
              "np.float64(76004.0)"
            ]
          },
          "metadata": {},
          "execution_count": 73
        }
      ]
    },
    {
      "cell_type": "code",
      "source": [
        "X= np.array(salary_df['YearsExperience'])\n",
        "y= np.array(salary_df['Salary'])\n",
        "\n",
        "from sklearn.model_selection import train_test_split\n",
        "\n",
        "X_train, X_test, y_train, y_test= train_test_split(X, y, test_size= 0.2, random_state=42)\n",
        "\n",
        "model= LinearRegression()\n",
        "model.fit(X_train, y_train)"
      ],
      "metadata": {
        "colab": {
          "base_uri": "https://localhost:8080/"
        },
        "id": "TDExl22XbN11",
        "outputId": "2af91249-8800-45b5-84e8-ab2353c7bfc4"
      },
      "execution_count": 74,
      "outputs": [
        {
          "output_type": "stream",
          "name": "stdout",
          "text": [
            "Model Trained\n",
            "Slope and Intercept:  9423.815323030978 24380.201479473697\n"
          ]
        }
      ]
    },
    {
      "cell_type": "code",
      "source": [
        "predictions = model.predict(X_test)\n",
        "score = model.score(X_test, y_test)\n",
        "\n",
        "print(f\"Actual values:    {y_test}\")\n",
        "print(f\"Predicted values: {predictions.round(2)}\")\n",
        "print(f\"Model R-squared Score: {score:.4f} ({score:.2%})\")"
      ],
      "metadata": {
        "colab": {
          "base_uri": "https://localhost:8080/"
        },
        "id": "Hf9NlIy0jrNi",
        "outputId": "5c90b72b-051a-4f72-f09d-97f6a1e2b165"
      },
      "execution_count": 75,
      "outputs": [
        {
          "output_type": "stream",
          "name": "stdout",
          "text": [
            "Actual values:    [112636.  67939. 113813.  83089.  64446.  57190.]\n",
            "Predicted values: [115791.21  71499.28 102597.87  75268.8   55478.79  60190.7 ]\n",
            "Model R-squared Score: 0.9024 (90.24%)\n"
          ]
        }
      ]
    },
    {
      "cell_type": "code",
      "source": [],
      "metadata": {
        "id": "0IO4rEtj7MAi"
      },
      "execution_count": null,
      "outputs": []
    }
  ]
}