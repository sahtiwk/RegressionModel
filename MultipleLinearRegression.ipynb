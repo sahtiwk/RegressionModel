{
  "nbformat": 4,
  "nbformat_minor": 0,
  "metadata": {
    "colab": {
      "provenance": []
    },
    "kernelspec": {
      "name": "python3",
      "display_name": "Python 3"
    },
    "language_info": {
      "name": "python"
    }
  },
  "cells": [
    {
      "cell_type": "code",
      "execution_count": 2,
      "metadata": {
        "id": "eVK7St72oyO1"
      },
      "outputs": [],
      "source": [
        "import numpy as np\n",
        "\n",
        "class MultipleLinearRegression():\n",
        "  def __init__(self):\n",
        "    self.coefficients= None\n",
        "\n",
        "  def fit(self, X, y):\n",
        "    X = np.array(X)\n",
        "    y= np.array(y)\n",
        "\n",
        "    if X.ndim == 1:\n",
        "      X= X.reshape(-1, 1)\n",
        "\n",
        "    m= X.shape[0]\n",
        "    X_b= np.c_[np.ones(m), X]\n",
        "\n",
        "    try:\n",
        "      self.coefficients= np.linalg.inv(X_b.T @ X_b) @ X_b.T @ y\n",
        "    except:\n",
        "      raise ValueError(\"Cannot compute the inverse. The matrix may be singular. Check your features for multicollinearity.\")\n",
        "\n",
        "    print(\"Model Trained.\")\n",
        "\n",
        "  def predict(self, X):\n",
        "    if self.coefficients is None:\n",
        "      raise RuntimeError(\"Model hasn't been trained yet.\")\n",
        "\n",
        "    X= np.array(X)\n",
        "    if X.ndim == 1:\n",
        "      X= X.reshape(-1, 1)\n",
        "\n",
        "    m= X.shape[0]\n",
        "    X_b= np.c_[np.ones(m), X]\n",
        "\n",
        "    return X_b @ self.coefficients\n",
        "\n",
        "  def score(self, X, y):\n",
        "    y_true = np.array(y)\n",
        "    y_predicted = self.predict(X)\n",
        "    tss = np.sum((y_true - np.mean(y_true))**2)\n",
        "    rss = np.sum((y_true - y_predicted)**2)\n",
        "\n",
        "    r_squared = 1 - (rss / tss)\n",
        "    return r_squared"
      ]
    },
    {
      "cell_type": "code",
      "source": [
        "from sklearn.datasets import fetch_california_housing\n",
        "from sklearn.model_selection import train_test_split\n",
        "from sklearn.preprocessing import StandardScaler\n",
        "scaler= StandardScaler()\n",
        "\n",
        "housing = fetch_california_housing()\n",
        "X, y = housing.data, housing.target"
      ],
      "metadata": {
        "id": "iIbM3bom2w9_"
      },
      "execution_count": 26,
      "outputs": []
    },
    {
      "cell_type": "code",
      "source": [
        "X_train, X_test, y_train, y_test = train_test_split(X, y, test_size=0.2, random_state=42)\n",
        "\n",
        "X_train= scaler.fit_transform(X_train)\n",
        "X_test= scaler.fit_transform(X_test)\n",
        "\n",
        "model = MultipleLinearRegression()\n",
        "model.fit(X_train, y_train)\n",
        "score = model.score(X_test, y_test)\n",
        "\n",
        "print(f\"Coefficients (B0, B1, B2): {model.coefficients}\")\n",
        "print(f\"Model R-squared score: {(score * 100):.4f}%\")"
      ],
      "metadata": {
        "colab": {
          "base_uri": "https://localhost:8080/"
        },
        "id": "eFnz2NxBzzGX",
        "outputId": "0886f9da-6c4a-4b80-e7be-d32419d95d46"
      },
      "execution_count": 28,
      "outputs": [
        {
          "output_type": "stream",
          "name": "stdout",
          "text": [
            "Model Trained.\n",
            "Coefficients (B0, B1, B2): [ 2.07194694  0.85438303  0.12254624 -0.29441013  0.33925949 -0.00230772\n",
            " -0.0408291  -0.89692888 -0.86984178]\n",
            "Model R-squared score: 58.8781%\n"
          ]
        }
      ]
    }
  ]
}